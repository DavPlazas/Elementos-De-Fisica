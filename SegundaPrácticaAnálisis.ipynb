{
 "cells": [
  {
   "cell_type": "code",
   "execution_count": 3,
   "metadata": {
    "id": "tTlNw_6jSjhy"
   },
   "outputs": [],
   "source": [
    "import matplotlib.pyplot as plt\n",
    "import numpy as np\n",
    "from math import factorial\n",
    "\n",
    "from sympy import *\n",
    "k = Symbol('k', integer=True)"
   ]
  },
  {
   "cell_type": "markdown",
   "metadata": {
    "id": "Rm_f9c_xdCQc"
   },
   "source": [
    "# **SUCESIONES Y SUS LÍMITES**\n"
   ]
  },
  {
   "cell_type": "markdown",
   "metadata": {
    "id": "y3dYjNaglicc"
   },
   "source": [
    "# 1. Una mirada gráfica"
   ]
  },
  {
   "cell_type": "markdown",
   "metadata": {
    "id": "yEUENJaWdeLr"
   },
   "source": [
    "Las siguientes lineas de código muestran como graficar los primeros 30 términos de la sucesión $\\left( \\frac{(-1)^n}{n} \\right)$. Esta gráfica nos permite ver el comportamiento de los términos de la sucesión y tener una mirada gráfica a la convergencia de la misma. "
   ]
  },
  {
   "cell_type": "code",
   "execution_count": 4,
   "metadata": {
    "colab": {
     "base_uri": "https://localhost:8080/",
     "height": 269
    },
    "executionInfo": {
     "elapsed": 1084,
     "status": "ok",
     "timestamp": 1647955542702,
     "user": {
      "displayName": "Margot Salas Brown",
      "photoUrl": "https://lh3.googleusercontent.com/a-/AOh14GiRmuIcjQDlojSUBvdehostAfFOQO6ZEm6NidRCIg=s64",
      "userId": "14088808045967321860"
     },
     "user_tz": 300
    },
    "id": "LSJh1wNjZ3mJ",
    "outputId": "9ccee6d3-8cfb-48ca-920c-f9fb0286c5f8"
   },
   "outputs": [
    {
     "data": {
      "text/plain": [
       "([], [])"
      ]
     },
     "execution_count": 4,
     "metadata": {},
     "output_type": "execute_result"
    },
    {
     "data": {
      "image/png": "[encoded data removed]",
      "text/plain": [
       "<Figure size 432x288 with 1 Axes>"
      ]
     },
     "metadata": {
      "needs_background": "light"
     },
     "output_type": "display_data"
    }
   ],
   "source": [
    "s1 = [((-1)**n)/n for n in range(1,30)]\n",
    "plt.plot(s1, 'o')\n",
    "plt.xticks([])"
   ]
  },
  {
   "cell_type": "markdown",
   "metadata": {
    "id": "91SyYG6ig2PQ"
   },
   "source": [
    "Si quisiesemos ver el comportamiento de una sucesión después de determinado valor, lo especificamos en la función $range$. Por ejemplo, la siguiente gráfica muestra el comportamiento de los términos 30 a 40 para la sucesión $\\left(\\frac{3^n}{n!} \\right)$."
   ]
  },
  {
   "cell_type": "code",
   "execution_count": 5,
   "metadata": {
    "colab": {
     "base_uri": "https://localhost:8080/",
     "height": 281
    },
    "executionInfo": {
     "elapsed": 357,
     "status": "ok",
     "timestamp": 1647955561378,
     "user": {
      "displayName": "Margot Salas Brown",
      "photoUrl": "https://lh3.googleusercontent.com/a-/AOh14GiRmuIcjQDlojSUBvdehostAfFOQO6ZEm6NidRCIg=s64",
      "userId": "14088808045967321860"
     },
     "user_tz": 300
    },
    "id": "7l2uJDWphvkI",
    "outputId": "e3e64b04-ee0a-428a-af8d-39c52e5718d9"
   },
   "outputs": [
    {
     "data": {
      "text/plain": [
       "([], [])"
      ]
     },
     "execution_count": 5,
     "metadata": {},
     "output_type": "execute_result"
    },
    {
     "data": {
      "image/png": "[encoded data removed]",
      "text/plain": [
       "<Figure size 432x288 with 1 Axes>"
      ]
     },
     "metadata": {
      "needs_background": "light"
     },
     "output_type": "display_data"
    }
   ],
   "source": [
    "s2 = [(3**n)/factorial(n) for n in range(30,40)]\n",
    "plt.plot(s2, 'o')\n",
    "plt.xticks([])"
   ]
  },
  {
   "cell_type": "markdown",
   "metadata": {
    "id": "XF8h9gEOk0xo"
   },
   "source": [
    "**Ejercicio 1**\n",
    "\n",
    "Emplee la siguientes celdas para verificar graficamente el comportamiento de las sucesiones:\n",
    "\n",
    "a. $\\left((2n)^{1/n} \\right)$ \n",
    "\n",
    "b. $\\left( \\frac{(-1)^n(n+1)}{n\\sqrt[2]{n}} \\right)$"
   ]
  },
  {
   "cell_type": "code",
   "execution_count": 41,
   "metadata": {
    "id": "I2siHPqilX6G"
   },
   "outputs": [
    {
     "data": {
      "text/plain": [
       "([], [])"
      ]
     },
     "execution_count": 41,
     "metadata": {},
     "output_type": "execute_result"
    },
    {
     "data": {
      "image/png": "[encoded data removed]",
      "text/plain": [
       "<Figure size 432x288 with 1 Axes>"
      ]
     },
     "metadata": {
      "needs_background": "light"
     },
     "output_type": "display_data"
    }
   ],
   "source": [
    "#a.)\n",
    "\n",
    "s3= [(2*n)**(1/n) for n in range(1,50)]\n",
    "plt.plot(s3,\"o\")\n",
    "plt.title(r\"Sucesión $(2n)^{1/n}$\",fontsize=20)\n",
    "plt.xticks([])\n"
   ]
  },
  {
   "cell_type": "code",
   "execution_count": 37,
   "metadata": {
    "id": "3N1B1-ZTmZ-s"
   },
   "outputs": [
    {
     "data": {
      "text/plain": [
       "([], [])"
      ]
     },
     "execution_count": 37,
     "metadata": {},
     "output_type": "execute_result"
    },
    {
     "data": {
      "image/png": "[encoded data removed]",
      "text/plain": [
       "<Figure size 432x288 with 1 Axes>"
      ]
     },
     "metadata": {
      "needs_background": "light"
     },
     "output_type": "display_data"
    }
   ],
   "source": [
    "#b.)\n",
    "\n",
    "s4= [(((-1)**n*(n+1))/(n*(n**0.5))) for n in range(1,50)]\n",
    "plt.plot(s4,\"o\")\n",
    "plt.title(r\"Sucesión: $\\frac{(-1)^n(n+1)}{n\\sqrt[2]{n}}$\",fontsize=20)\n",
    "plt.xticks([])"
   ]
  },
  {
   "cell_type": "markdown",
   "metadata": {
    "id": "HQNUhmXlmcHu"
   },
   "source": [
    "**Ejercicio 2**\n",
    "\n",
    "Determine graficamente si las siguientes sucesiones son o no monotonas.\n",
    "\n",
    "a.$\\left( (1+\\frac{1}{1+n})^n \\right)$ \n",
    "\n",
    "b.$\\left( (1-\\frac{1}{n})^n \\right)$\n",
    "\n",
    "c. $\\left(\\frac{n!}{n^n}\\right)$"
   ]
  },
  {
   "cell_type": "code",
   "execution_count": 44,
   "metadata": {
    "id": "fERRxP9MnXVe"
   },
   "outputs": [
    {
     "data": {
      "text/plain": [
       "([], [])"
      ]
     },
     "execution_count": 44,
     "metadata": {},
     "output_type": "execute_result"
    },
    {
     "data": {
      "image/png": "[encoded data removed]",
      "text/plain": [
       "<Figure size 432x288 with 1 Axes>"
      ]
     },
     "metadata": {
      "needs_background": "light"
     },
     "output_type": "display_data"
    }
   ],
   "source": [
    "#a.)\n",
    "\n",
    "s5=[(1+1/(1+n))**n for n in range(0,30)]\n",
    "plt.plot(s5,\"o\")\n",
    "plt.title(r\"Sucesión: $(1+\\frac{1}{1+n})^n$\",fontsize=20)\n",
    "plt.xticks([])"
   ]
  },
  {
   "cell_type": "markdown",
   "metadata": {},
   "source": [
    "Esta sucesión es monotona creciente."
   ]
  },
  {
   "cell_type": "code",
   "execution_count": 56,
   "metadata": {
    "id": "H3OsoIw1nXi_"
   },
   "outputs": [
    {
     "data": {
      "text/plain": [
       "([], [])"
      ]
     },
     "execution_count": 56,
     "metadata": {},
     "output_type": "execute_result"
    },
    {
     "data": {
      "image/png": "[encoded data removed]",
      "text/plain": [
       "<Figure size 432x288 with 1 Axes>"
      ]
     },
     "metadata": {
      "needs_background": "light"
     },
     "output_type": "display_data"
    }
   ],
   "source": [
    "#b.)\n",
    "\n",
    "s6=[(1-(1/n))**n for n in range(1,30)]\n",
    "plt.plot(s6,\"o\")\n",
    "plt.title(r\"Sucesion: $ (1-\\frac{1}{n})^n $\", fontsize=20)\n",
    "plt.xticks([])"
   ]
  },
  {
   "cell_type": "markdown",
   "metadata": {},
   "source": [
    "Esta suceción es monotona creciente."
   ]
  },
  {
   "cell_type": "code",
   "execution_count": 58,
   "metadata": {
    "id": "6hW0aOhInXsb"
   },
   "outputs": [
    {
     "data": {
      "text/plain": [
       "([], [])"
      ]
     },
     "execution_count": 58,
     "metadata": {},
     "output_type": "execute_result"
    },
    {
     "data": {
      "image/png": "[encoded data removed]",
      "text/plain": [
       "<Figure size 432x288 with 1 Axes>"
      ]
     },
     "metadata": {
      "needs_background": "light"
     },
     "output_type": "display_data"
    }
   ],
   "source": [
    "#c.)\n",
    "\n",
    "s6=[factorial(n)/(n**n) for n in range(1,30)]\n",
    "plt.plot(s6,\"o\")\n",
    "plt.title(r\"Suceción: $\\frac{n!}{n^n}$\",fontsize=20)\n",
    "plt.xticks([])"
   ]
  },
  {
   "cell_type": "markdown",
   "metadata": {},
   "source": [
    "Esta suceción es monotona decreciente."
   ]
  },
  {
   "cell_type": "markdown",
   "metadata": {
    "id": "U1biXhiAngDQ"
   },
   "source": [
    "# 2. Cálculo del límite de una sucesión\n",
    "\n",
    "La función limit_seq nos permitirá calcular el límite de una sucesión. En la siguientes celdas se muestra el cálculo de los límites de las sucesiones $\\left( \\frac{5n^3+3n^2}{3n^3+4n} \\right)$ y $\\left( \\frac{n!}{n} \\right)$."
   ]
  },
  {
   "cell_type": "code",
   "execution_count": 60,
   "metadata": {
    "colab": {
     "base_uri": "https://localhost:8080/",
     "height": 51
    },
    "executionInfo": {
     "elapsed": 485,
     "status": "ok",
     "timestamp": 1647955593496,
     "user": {
      "displayName": "Margot Salas Brown",
      "photoUrl": "https://lh3.googleusercontent.com/a-/AOh14GiRmuIcjQDlojSUBvdehostAfFOQO6ZEm6NidRCIg=s64",
      "userId": "14088808045967321860"
     },
     "user_tz": 300
    },
    "id": "-r7KYcUToxhJ",
    "outputId": "103051d7-1e1b-48fd-a51c-d623798480d3"
   },
   "outputs": [
    {
     "data": {
      "text/latex": [
       "$\\displaystyle \\frac{5}{3}$"
      ],
      "text/plain": [
       "5/3"
      ]
     },
     "execution_count": 60,
     "metadata": {},
     "output_type": "execute_result"
    }
   ],
   "source": [
    "limit_seq((5*k**3 + 3*k**2 ) / (3*k**3 + 4*k), k)"
   ]
  },
  {
   "cell_type": "code",
   "execution_count": 61,
   "metadata": {
    "colab": {
     "base_uri": "https://localhost:8080/",
     "height": 37
    },
    "executionInfo": {
     "elapsed": 1861,
     "status": "ok",
     "timestamp": 1647955603341,
     "user": {
      "displayName": "Margot Salas Brown",
      "photoUrl": "https://lh3.googleusercontent.com/a-/AOh14GiRmuIcjQDlojSUBvdehostAfFOQO6ZEm6NidRCIg=s64",
      "userId": "14088808045967321860"
     },
     "user_tz": 300
    },
    "id": "islU1a2opkyH",
    "outputId": "b46cb943-f76a-4e4b-9c69-a54bc0ab5183"
   },
   "outputs": [
    {
     "data": {
      "text/latex": [
       "$\\displaystyle \\infty$"
      ],
      "text/plain": [
       "oo"
      ]
     },
     "execution_count": 61,
     "metadata": {},
     "output_type": "execute_result"
    }
   ],
   "source": [
    "limit_seq(factorial(k)/k,k)"
   ]
  },
  {
   "cell_type": "markdown",
   "metadata": {
    "id": "3euxe3Oaq6cm"
   },
   "source": [
    "**Ejercicio 3**\n",
    "\n",
    "Encuentre los límites de las sucesiones dadas en los ejercicios 1 y 2."
   ]
  },
  {
   "cell_type": "code",
   "execution_count": 65,
   "metadata": {
    "id": "XtPH7V9ErSRA"
   },
   "outputs": [
    {
     "data": {
      "text/latex": [
       "$\\displaystyle 1$"
      ],
      "text/plain": [
       "1"
      ]
     },
     "execution_count": 65,
     "metadata": {},
     "output_type": "execute_result"
    }
   ],
   "source": [
    "#Sucesion 3.\n",
    "\n",
    "limit_seq((2*k)**(1/k),k)"
   ]
  },
  {
   "cell_type": "code",
   "execution_count": 67,
   "metadata": {
    "id": "GumzDj9arSkJ"
   },
   "outputs": [
    {
     "data": {
      "text/latex": [
       "$\\displaystyle 0$"
      ],
      "text/plain": [
       "0"
      ]
     },
     "execution_count": 67,
     "metadata": {},
     "output_type": "execute_result"
    }
   ],
   "source": [
    "#Sucesion 4.\n",
    "\n",
    "limit_seq((((-1)**k*(k+1))/(k*(k**0.5))),k)"
   ]
  },
  {
   "cell_type": "code",
   "execution_count": 68,
   "metadata": {
    "id": "QEf-HaCZrSru"
   },
   "outputs": [
    {
     "data": {
      "text/latex": [
       "$\\displaystyle e$"
      ],
      "text/plain": [
       "E"
      ]
     },
     "execution_count": 68,
     "metadata": {},
     "output_type": "execute_result"
    }
   ],
   "source": [
    "#Sucesion 5.\n",
    "\n",
    "limit_seq((1+1/(1+k))**k,k)"
   ]
  },
  {
   "cell_type": "code",
   "execution_count": 69,
   "metadata": {
    "id": "PZtLy9IFrSy3"
   },
   "outputs": [
    {
     "data": {
      "text/latex": [
       "$\\displaystyle e^{-1}$"
      ],
      "text/plain": [
       "exp(-1)"
      ]
     },
     "execution_count": 69,
     "metadata": {},
     "output_type": "execute_result"
    }
   ],
   "source": [
    "#Sucesion 6.\n",
    "\n",
    "limit_seq((1-(1/k))**k,k)"
   ]
  },
  {
   "cell_type": "code",
   "execution_count": 70,
   "metadata": {
    "id": "Q78VZLiUrS5M"
   },
   "outputs": [
    {
     "data": {
      "text/latex": [
       "$\\displaystyle 0$"
      ],
      "text/plain": [
       "0"
      ]
     },
     "execution_count": 70,
     "metadata": {},
     "output_type": "execute_result"
    }
   ],
   "source": [
    "#Sucecion 7.\n",
    "\n",
    "limit_seq(factorial(k)/(k**k),k)"
   ]
  },
  {
   "cell_type": "markdown",
   "metadata": {
    "id": "hJUzW5V4rIQX"
   },
   "source": [
    "# 3. Ejercicios de aplicación"
   ]
  },
  {
   "cell_type": "markdown",
   "metadata": {
    "id": "VgBjC0KfrhEk"
   },
   "source": [
    "**Ejercicio 4**\n",
    "\n",
    "Una fábrica de de componentes electrónicos determina que $n$ meses después de que la producción inicie, el número de unidades producidas será de $P(n)$ miles, donde $P(n)=\\frac{6n^2+5n}{(n+1)^2}$. ¿Cuál será la capacidad de producción de la fábrica a largo término?, si a futuro la demanda excede la capacidad de producción de la fábrica ¿qué momento es propicio para mejorar la planta y así la capacidad de producción? "
   ]
  },
  {
   "cell_type": "code",
   "execution_count": 90,
   "metadata": {
    "id": "i9XZqAZmsmt0"
   },
   "outputs": [
    {
     "data": {
      "text/latex": [
       "$\\displaystyle 6$"
      ],
      "text/plain": [
       "6"
      ]
     },
     "execution_count": 90,
     "metadata": {},
     "output_type": "execute_result"
    }
   ],
   "source": [
    "n = Symbol('n', integer=True)\n",
    "#Para encontrar la capacidad de produccion de la fabrica a largo termino, debemos\n",
    "#hallar el limite de la sucesion, luego\n",
    "\n",
    "P=(6*n**2+5*n)/(n+1)**2\n",
    "limit_seq(P,n)\n"
   ]
  },
  {
   "cell_type": "markdown",
   "metadata": {},
   "source": [
    "El número de unidades producidas a largo término será de seis mil."
   ]
  },
  {
   "cell_type": "code",
   "execution_count": 105,
   "metadata": {
    "id": "k6QlDHq7x5Tb"
   },
   "outputs": [
    {
     "name": "stdout",
     "output_type": "stream",
     "text": [
      "Unidades producidas al cabo de 15 meses: 178125/32= 5566.41\n"
     ]
    },
    {
     "data": {
      "image/png": "[encoded data removed]",
      "text/plain": [
       "<Figure size 432x288 with 1 Axes>"
      ]
     },
     "metadata": {
      "needs_background": "light"
     },
     "output_type": "display_data"
    }
   ],
   "source": [
    "s8=[(6*n**2+5*n)/(n+1)**2 for n in range(30)]\n",
    "plt.plot(s8,\"o\")\n",
    "\n",
    "u=P.subs(n,15)*1000\n",
    "print(f\"Unidades producidas al cabo de 15 meses: {u}= {round(u,2)}\")\n",
    "\n",
    "      "
   ]
  },
  {
   "cell_type": "markdown",
   "metadata": {},
   "source": [
    "A partir de la gráfica podemos determinar que al cabo de 15 meses, el número de unidades producidas es aproximadamente de 5566. Desde ese momento, el número de componentes producidas empieza a tener un crecimiento menor a comparación del mes inmediatamente anterior, pues como podemos observar por medio de la gráfica, el crecimiento en el número de unidades a partir del mes 15 en adelante es menor que los meses anteriores a este. Es por esto que un buen momento para reformar la planta sería al finalizar el mes 15."
   ]
  },
  {
   "cell_type": "markdown",
   "metadata": {
    "id": "sfMdjSGTuBTM"
   },
   "source": [
    "**Ejercicio 5**\n",
    "\n",
    "La concentración de un medicamento en el torrente sanguineo de un paciente, $n$ horas después de haberselo suministrado, es de $C(n)$ miligramos por mililitro, donde $C(n)=\\frac{0.4}{n^{1.2}+1}+0.013$.\n",
    "\n",
    "a. ¿Cuál es la concentración del medicamento al momento de aplicarlo?\n",
    "\n",
    "b. ¿Cómo cambia la concentración del medicamento a lo largo del tiempo?\n",
    "\n",
    "c. Si el medicamento es de acción prolongada, ¿cuál es su concentración residual?"
   ]
  },
  {
   "cell_type": "code",
   "execution_count": 107,
   "metadata": {
    "id": "8BajSZhMvmIS"
   },
   "outputs": [
    {
     "name": "stdout",
     "output_type": "stream",
     "text": [
      "La concentracion del medicamento al momento de aplicarlo es igual a: 0.413 miligramos\n"
     ]
    }
   ],
   "source": [
    "#a.)\n",
    "\n",
    "C=0.4/(n**(1.2)+1)+0.013\n",
    "\n",
    "con=C.subs(n,0)\n",
    "print(f\"La concentracion del medicamento al momento de aplicarlo es igual a: {round(con,3)} miligramos\")"
   ]
  },
  {
   "cell_type": "code",
   "execution_count": 113,
   "metadata": {},
   "outputs": [
    {
     "name": "stdout",
     "output_type": "stream",
     "text": [
      "La concentracion del medicamento transcurridas 20 horas es aproximadamente de: 0.024 miligramos\n"
     ]
    },
    {
     "data": {
      "image/png": "[encoded data removed]",
      "text/plain": [
       "<Figure size 432x288 with 1 Axes>"
      ]
     },
     "metadata": {
      "needs_background": "light"
     },
     "output_type": "display_data"
    }
   ],
   "source": [
    "#b.)\n",
    "\n",
    "s9=[(0.4/(n**(1.2)+1)+0.013) for n in range(30)]\n",
    "plt.plot(s9,\"o\")\n",
    "\n",
    "con=C.subs(n,20)\n",
    "print(f\"La concentracion del medicamento transcurridas 20 horas es aproximadamente de: {round(con,3)} miligramos\")"
   ]
  },
  {
   "cell_type": "markdown",
   "metadata": {},
   "source": [
    "A partir de la gráfica podemos determinar que en las primera horas, el medicamento tiene una alta concetración en el torrente sanguíneo. Sin embargo, a medida que el tiempo avanza, podemos evidenciar que el efecto del medicamento cada vez es menor. Es de notar que pasadas 20 horas, la concentración del medicamento empieza a estabilizarse. "
   ]
  },
  {
   "cell_type": "code",
   "execution_count": 109,
   "metadata": {
    "id": "Dar5kxtUx6Wj"
   },
   "outputs": [
    {
     "name": "stdout",
     "output_type": "stream",
     "text": [
      "La concentración residual es: 13/1000 = 0.01 miligramos\n"
     ]
    }
   ],
   "source": [
    "#c.)\n",
    "\n",
    "res=limit_seq(C,n)\n",
    "print(f\"La concentración residual es: {res} = {round(res,2)} miligramos\")\n"
   ]
  },
  {
   "cell_type": "markdown",
   "metadata": {
    "id": "2to0jwqev0Y_"
   },
   "source": [
    "**Ejercicio 6**\n",
    "\n",
    "En una comunidad se estima que $n$ años después desde ahora su población será de $p(n)$ miles de personas, donde $p(n)=20-\\frac{7}{n-2}$. Un estudio ambiental muestra que el nivel promedio de monóxido de carbono en el aire será de $c(p)$ partes por millón cuando la población es de $n$ miles, donde $c(p)=0.4 \\sqrt{p^2+p+21}$. ¿Qué sucederá con los niveles de polución a largo plazo?, ¿en qué momento se estabilizan estos niveles de polución?"
   ]
  },
  {
   "cell_type": "code",
   "execution_count": 116,
   "metadata": {
    "id": "mKf-05B5xXT_"
   },
   "outputs": [
    {
     "name": "stdout",
     "output_type": "stream",
     "text": [
      "Los niveles de polucion a largo plazo tenderán a: 882/5 = 176 ppm\n"
     ]
    }
   ],
   "source": [
    "P=20-7/(n-2)\n",
    "\n",
    "C=0.4*(P**2+P+21)\n",
    "\n",
    "val=limit_seq(C,n)\n",
    "print(f\"Los niveles de polucion a largo plazo tenderán a: {val} = {round(val)} ppm\")"
   ]
  },
  {
   "cell_type": "code",
   "execution_count": 133,
   "metadata": {
    "id": "t50Dcgl_xXei"
   },
   "outputs": [
    {
     "name": "stdout",
     "output_type": "stream",
     "text": [
      "Nivel de polución transcurridos 30 años: 172.325 ppm\n"
     ]
    },
    {
     "data": {
      "image/png": "[encoded data removed]",
      "text/plain": [
       "<Figure size 432x288 with 1 Axes>"
      ]
     },
     "metadata": {
      "needs_background": "light"
     },
     "output_type": "display_data"
    }
   ],
   "source": [
    "#s10=[(0.4*(20-7/(n-2))**2+(20-7/(n-2))+21) for n in range(3,30)]\n",
    "s10=[C.subs(n,x) for x in range(3,50)]\n",
    "plt.plot(s10,\"o\")\n",
    "\n",
    "est=C.subs(n,30)\n",
    "print(f\"Nivel de polución transcurridos 30 años: {round(est,3)} ppm\")"
   ]
  },
  {
   "cell_type": "markdown",
   "metadata": {},
   "source": [
    "EL nivel de polución se estabiliza transcurridos 30 años."
   ]
  },
  {
   "cell_type": "markdown",
   "metadata": {
    "id": "qlDf5-T7xdFn"
   },
   "source": [
    "# BIBLIOGRAFÍA\n",
    "\n",
    "Bartle, R. y Sherbert, D, Real analysis, Ed 4, John Wiley, 2011."
   ]
  }
 ],
 "metadata": {
  "colab": {
   "collapsed_sections": [],
   "name": "SegundaPrácticaAnálisis.ipynb",
   "provenance": []
  },
  "kernelspec": {
   "display_name": "Python 3 (ipykernel)",
   "language": "python",
   "name": "python3"
  },
  "language_info": {
   "codemirror_mode": {
    "name": "ipython",
    "version": 3
   },
   "file_extension": ".py",
   "mimetype": "text/x-python",
   "name": "python",
   "nbconvert_exporter": "python",
   "pygments_lexer": "ipython3",
   "version": "3.8.13"
  }
 },
 "nbformat": 4,
 "nbformat_minor": 1
}
